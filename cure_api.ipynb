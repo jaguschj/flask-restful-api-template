{
 "cells": [
  {
   "cell_type": "markdown",
   "metadata": {},
   "source": [
    "Testing api for curing\n",
    "\n"
   ]
  },
  {
   "cell_type": "code",
   "execution_count": 2,
   "metadata": {},
   "outputs": [
    {
     "name": "stdout",
     "output_type": "stream",
     "text": [
      "[{'id': 1, 'name': 'John Smith'}]\n",
      "[{'id': 2, 'name': 'MFSHC', 'description': 'MFS Heating/Cooling'}]\n",
      "[{'id': 2, 'name': 'ABCD', 'description': 'Test Rename'}]\n"
     ]
    }
   ],
   "source": [
    "import requests\n",
    "\n",
    "get_user=requests.get(\"http://localhost:5000/api/users\")\n",
    "users=get_user.json()['users']\n",
    "print(users)\n",
    "get_bus=requests.get(\"http://localhost:5000/api/bu\")\n",
    "bus=get_bus.json()['bus']\n",
    "print(bus)\n",
    "get_comps=requests.get(\"http://localhost:5000/api/compounds\")\n",
    "compounds=get_comps.json()['comps']\n",
    "print(compounds)"
   ]
  },
  {
   "cell_type": "code",
   "execution_count": 8,
   "metadata": {},
   "outputs": [
    {
     "data": {
      "text/plain": [
       "b'{\"count\": 1, \"comps\": [{\"id\": 2, \"name\": \"ABCD\", \"description\": \"Test Abcd\"}]}\\n'"
      ]
     },
     "execution_count": 8,
     "metadata": {},
     "output_type": "execute_result"
    }
   ],
   "source": [
    "get_comps.content"
   ]
  },
  {
   "cell_type": "code",
   "execution_count": 3,
   "metadata": {},
   "outputs": [
    {
     "data": {
      "text/plain": [
       "<Response [200]>"
      ]
     },
     "execution_count": 3,
     "metadata": {},
     "output_type": "execute_result"
    }
   ],
   "source": [
    "uparam={'id':3,'name':'ABCDE'}\n",
    "user_response=requests.post(\"http://localhost:5000/api/users\", json=uparam)\n",
    "user_response"
   ]
  },
  {
   "cell_type": "code",
   "execution_count": 6,
   "metadata": {},
   "outputs": [
    {
     "data": {
      "text/plain": [
       "<Response [200]>"
      ]
     },
     "execution_count": 6,
     "metadata": {},
     "output_type": "execute_result"
    }
   ],
   "source": [
    "uparam={'id':5,'name':'John5'}\n",
    "user_response=requests.put(\"http://localhost:5000/api/users/\"+str(uparam['id']), json=uparam)\n",
    "user_response"
   ]
  },
  {
   "cell_type": "code",
   "execution_count": 7,
   "metadata": {},
   "outputs": [
    {
     "name": "stdout",
     "output_type": "stream",
     "text": [
      "<Id: 6, name: ABCDE>\n"
     ]
    },
    {
     "data": {
      "text/plain": [
       "<Response [200]>"
      ]
     },
     "execution_count": 7,
     "metadata": {},
     "output_type": "execute_result"
    }
   ],
   "source": [
    "udel= User.query.filter_by(name='ABCDE').first()\n",
    "print(udel)\n",
    "user_response=requests.delete(\"http://localhost:5000/api/users/\"+str(udel.id))\n",
    "user_response"
   ]
  },
  {
   "cell_type": "code",
   "execution_count": 5,
   "metadata": {},
   "outputs": [],
   "source": [
    "get_response=requests.get(\"http://localhost:5000/api/cures\")#, params=parameters)"
   ]
  },
  {
   "cell_type": "code",
   "execution_count": 6,
   "metadata": {},
   "outputs": [
    {
     "data": {
      "text/plain": [
       "[]"
      ]
     },
     "execution_count": 6,
     "metadata": {},
     "output_type": "execute_result"
    }
   ],
   "source": [
    "cures=get_response.json()['cures']\n",
    "cures"
   ]
  },
  {
   "cell_type": "code",
   "execution_count": 7,
   "metadata": {},
   "outputs": [
    {
     "data": {
      "text/plain": [
       "b'{\"id\": 1, \"name\": \"ABC_BG\", \"description\": \"my comp name entry\", \"a\": 1.0, \"b\": 3.0, \"user_id\": 2, \"bu_id\": 3, \"comp_id\": 2}\\n'"
      ]
     },
     "execution_count": 7,
     "metadata": {},
     "output_type": "execute_result"
    }
   ],
   "source": [
    "import json\n",
    "parameters={'user_id':2,'name':'ABC_BG','a':1.0,'b':3.0,'description':'my comp name entry', 'bu_id':3,'comp_id':2}\n",
    "#pstr='user_id=1 name=\"ABCD\" a=1.0 b=2.0 description=\"no description\"'\n",
    "#xx=json.dumps(parameters)\n",
    "post_response=requests.post(\"http://localhost:5000/api/cures\", json=parameters)\n",
    "post_response.content"
   ]
  },
  {
   "cell_type": "code",
   "execution_count": 8,
   "metadata": {},
   "outputs": [
    {
     "name": "stdout",
     "output_type": "stream",
     "text": [
      "['__attrs__', '__bool__', '__class__', '__delattr__', '__dict__', '__dir__', '__doc__', '__enter__', '__eq__', '__exit__', '__format__', '__ge__', '__getattribute__', '__getstate__', '__gt__', '__hash__', '__init__', '__init_subclass__', '__iter__', '__le__', '__lt__', '__module__', '__ne__', '__new__', '__nonzero__', '__reduce__', '__reduce_ex__', '__repr__', '__setattr__', '__setstate__', '__sizeof__', '__str__', '__subclasshook__', '__weakref__', '_content', '_content_consumed', '_next', 'apparent_encoding', 'close', 'connection', 'content', 'cookies', 'elapsed', 'encoding', 'headers', 'history', 'is_permanent_redirect', 'is_redirect', 'iter_content', 'iter_lines', 'json', 'links', 'next', 'ok', 'raise_for_status', 'raw', 'reason', 'request', 'status_code', 'text', 'url']\n"
     ]
    },
    {
     "data": {
      "text/plain": [
       "200"
      ]
     },
     "execution_count": 8,
     "metadata": {},
     "output_type": "execute_result"
    }
   ],
   "source": [
    "print(dir(post_response))\n",
    "post_response.status_code"
   ]
  },
  {
   "cell_type": "code",
   "execution_count": null,
   "metadata": {},
   "outputs": [],
   "source": [
    "get_response.content"
   ]
  },
  {
   "cell_type": "code",
   "execution_count": 9,
   "metadata": {},
   "outputs": [
    {
     "data": {
      "text/html": [
       "<div>\n",
       "<style scoped>\n",
       "    .dataframe tbody tr th:only-of-type {\n",
       "        vertical-align: middle;\n",
       "    }\n",
       "\n",
       "    .dataframe tbody tr th {\n",
       "        vertical-align: top;\n",
       "    }\n",
       "\n",
       "    .dataframe thead th {\n",
       "        text-align: right;\n",
       "    }\n",
       "</style>\n",
       "<table border=\"1\" class=\"dataframe\">\n",
       "  <thead>\n",
       "    <tr style=\"text-align: right;\">\n",
       "      <th></th>\n",
       "      <th>a</th>\n",
       "      <th>b</th>\n",
       "      <th>bu_id</th>\n",
       "      <th>comp_id</th>\n",
       "      <th>description</th>\n",
       "      <th>id</th>\n",
       "      <th>name</th>\n",
       "      <th>user_id</th>\n",
       "    </tr>\n",
       "  </thead>\n",
       "  <tbody>\n",
       "    <tr>\n",
       "      <th>0</th>\n",
       "      <td>1.0</td>\n",
       "      <td>3.0</td>\n",
       "      <td>3</td>\n",
       "      <td>2</td>\n",
       "      <td>my comp name entry</td>\n",
       "      <td>1</td>\n",
       "      <td>ABC_BG</td>\n",
       "      <td>2</td>\n",
       "    </tr>\n",
       "  </tbody>\n",
       "</table>\n",
       "</div>"
      ],
      "text/plain": [
       "     a    b  bu_id  comp_id         description  id    name  user_id\n",
       "0  1.0  3.0      3        2  my comp name entry   1  ABC_BG        2"
      ]
     },
     "execution_count": 9,
     "metadata": {},
     "output_type": "execute_result"
    }
   ],
   "source": [
    "import pandas as pd\n",
    "# get as pandas dataFrame\n",
    "def get_list_of_compounds():\n",
    "    #cures=get_response.json()['cures']\n",
    "    get_response=requests.get(\"http://localhost:5000/api/cures\")\n",
    "    #df=pd.DataFrame(data=cures,index='id')\n",
    "    df=pd.DataFrame(get_response.json()['cures'])\n",
    "    return df\n",
    "    #return [ (c['id'],c['name'],c['description']) for c in cures]\n",
    "lcc=get_list_of_compounds()    \n",
    "lcc     "
   ]
  },
  {
   "cell_type": "code",
   "execution_count": 111,
   "metadata": {},
   "outputs": [
    {
     "name": "stdout",
     "output_type": "stream",
     "text": [
      "[<Id: 1, name: 2ABCDE>, <Id: 2, name: Nubi>, <Id: 3, name: PDSA>, <Id: 4, name: ABCDE>, <Id: 5, name: ABCDEF>]\n",
      "1 2ABCDE no description\n",
      "3 PDSA test\n",
      "4 ABCDE no description\n",
      "5 ABCDEF double name entry\n"
     ]
    }
   ],
   "source": [
    "# using filters in query    \n",
    "def get_list_of_compounds_perUser(user=None):\n",
    "    if user:\n",
    "        uname = User.query.filter_by(name=user).first()\n",
    "        cure=Curedb.query.filter_by(user_id=uname.id) \n",
    "        return cure.all()\n",
    "    else:\n",
    "        cure=Curedb.query.all()\n",
    "        return cure\n",
    "        \n",
    "\n",
    "\n",
    "lcca=get_list_of_compounds_perUser()   \n",
    "#print(dir(lccu))\n",
    "print(lcca)\n",
    "\n",
    "lccu=get_list_of_compounds_perUser('Kai')\n",
    "#print(dir(lccu))\n",
    "for lc in lccu:    \n",
    "    print(lc.id,lc.name,lc.description)"
   ]
  },
  {
   "cell_type": "code",
   "execution_count": 10,
   "metadata": {},
   "outputs": [
    {
     "data": {
      "text/plain": [
       "[]"
      ]
     },
     "execution_count": 10,
     "metadata": {},
     "output_type": "execute_result"
    }
   ],
   "source": [
    "# alternative request filter in url\n",
    "get_2=requests.get(\"http://localhost:5000/api/cures?user_id=2&name=ABCDE\")\n",
    "cures=get_2.json()['cures']\n",
    "cures"
   ]
  },
  {
   "cell_type": "code",
   "execution_count": 11,
   "metadata": {},
   "outputs": [
    {
     "ename": "NameError",
     "evalue": "name 'User' is not defined",
     "output_type": "error",
     "traceback": [
      "\u001b[1;31m---------------------------------------------------------------------------\u001b[0m",
      "\u001b[1;31mNameError\u001b[0m                                 Traceback (most recent call last)",
      "\u001b[1;32m<ipython-input-11-d5f401440eee>\u001b[0m in \u001b[0;36m<module>\u001b[1;34m\u001b[0m\n\u001b[0;32m      1\u001b[0m \u001b[1;31m# filter by name\u001b[0m\u001b[1;33m\u001b[0m\u001b[1;33m\u001b[0m\u001b[1;33m\u001b[0m\u001b[0m\n\u001b[1;32m----> 2\u001b[1;33m \u001b[0muname\u001b[0m\u001b[1;33m=\u001b[0m\u001b[0mUser\u001b[0m\u001b[1;33m.\u001b[0m\u001b[0mquery\u001b[0m\u001b[1;33m.\u001b[0m\u001b[0mfilter_by\u001b[0m\u001b[1;33m(\u001b[0m\u001b[0mname\u001b[0m\u001b[1;33m=\u001b[0m\u001b[1;34m'Kai'\u001b[0m\u001b[1;33m)\u001b[0m\u001b[1;33m.\u001b[0m\u001b[0mfirst\u001b[0m\u001b[1;33m(\u001b[0m\u001b[1;33m)\u001b[0m\u001b[1;33m\u001b[0m\u001b[1;33m\u001b[0m\u001b[0m\n\u001b[0m\u001b[0;32m      3\u001b[0m \u001b[0mcure\u001b[0m\u001b[1;33m=\u001b[0m\u001b[0mCuredb\u001b[0m\u001b[1;33m.\u001b[0m\u001b[0mquery\u001b[0m\u001b[1;33m.\u001b[0m\u001b[0mfilter_by\u001b[0m\u001b[1;33m(\u001b[0m\u001b[0muser_id\u001b[0m\u001b[1;33m=\u001b[0m\u001b[0muname\u001b[0m\u001b[1;33m.\u001b[0m\u001b[0mid\u001b[0m\u001b[1;33m)\u001b[0m\u001b[1;33m\u001b[0m\u001b[1;33m\u001b[0m\u001b[0m\n\u001b[0;32m      4\u001b[0m \u001b[0mprint\u001b[0m\u001b[1;33m(\u001b[0m\u001b[1;34m'%d Cure(s) found in db for name: %s'\u001b[0m\u001b[1;33m%\u001b[0m\u001b[1;33m(\u001b[0m\u001b[0mcure\u001b[0m\u001b[1;33m.\u001b[0m\u001b[0mcount\u001b[0m\u001b[1;33m(\u001b[0m\u001b[1;33m)\u001b[0m\u001b[1;33m,\u001b[0m\u001b[0muname\u001b[0m\u001b[1;33m.\u001b[0m\u001b[0mname\u001b[0m\u001b[1;33m)\u001b[0m\u001b[1;33m)\u001b[0m\u001b[1;33m\u001b[0m\u001b[1;33m\u001b[0m\u001b[0m\n\u001b[0;32m      5\u001b[0m \u001b[1;32mfor\u001b[0m \u001b[0mx\u001b[0m \u001b[1;32min\u001b[0m \u001b[0mcure\u001b[0m\u001b[1;33m:\u001b[0m\u001b[1;33m\u001b[0m\u001b[1;33m\u001b[0m\u001b[0m\n",
      "\u001b[1;31mNameError\u001b[0m: name 'User' is not defined"
     ]
    }
   ],
   "source": [
    "# filter by name, needs objects imported (no flexible solution here)\n",
    "uname=User.query.filter_by(name='Kai').first()\n",
    "cure=Curedb.query.filter_by(user_id=uname.id)\n",
    "print('%d Cure(s) found in db for name: %s'%(cure.count(),uname.name))\n",
    "for x in cure:\n",
    "    print(x.id,x.name,x.a)"
   ]
  },
  {
   "cell_type": "code",
   "execution_count": 12,
   "metadata": {},
   "outputs": [],
   "source": [
    "parameter={'cure_id':1}\n",
    "get_byid=requests.get(\"http://localhost:5000/api/cures\",json=parameter)"
   ]
  },
  {
   "cell_type": "code",
   "execution_count": 13,
   "metadata": {},
   "outputs": [
    {
     "data": {
      "text/plain": [
       "{'count': 1,\n",
       " 'cures': [{'id': 1,\n",
       "   'name': 'ABC_BG',\n",
       "   'description': 'my comp name entry',\n",
       "   'a': 1.0,\n",
       "   'b': 3.0,\n",
       "   'user_id': 2,\n",
       "   'bu_id': 3,\n",
       "   'comp_id': 2}]}"
      ]
     },
     "execution_count": 13,
     "metadata": {},
     "output_type": "execute_result"
    }
   ],
   "source": [
    "get_byid.content\n",
    "get_byid.json()"
   ]
  },
  {
   "cell_type": "code",
   "execution_count": 109,
   "metadata": {},
   "outputs": [
    {
     "data": {
      "text/plain": [
       "b'{\"id\": 7, \"name\": \"ABCDEFGH\", \"description\": \"double name entry\", \"a\": 1.0, \"b\": 3.0, \"user_id\": 2}\\n'"
      ]
     },
     "execution_count": 109,
     "metadata": {},
     "output_type": "execute_result"
    }
   ],
   "source": [
    "del_byid=requests.delete(\"http://localhost:5000/api/cures/7\",json=parameter)\n",
    "del_byid.content"
   ]
  },
  {
   "cell_type": "code",
   "execution_count": null,
   "metadata": {},
   "outputs": [],
   "source": []
  }
 ],
 "metadata": {
  "kernelspec": {
   "display_name": "Python 3",
   "language": "python",
   "name": "python3"
  },
  "language_info": {
   "codemirror_mode": {
    "name": "ipython",
    "version": 3
   },
   "file_extension": ".py",
   "mimetype": "text/x-python",
   "name": "python",
   "nbconvert_exporter": "python",
   "pygments_lexer": "ipython3",
   "version": "3.7.3"
  },
  "varInspector": {
   "cols": {
    "lenName": 16,
    "lenType": 16,
    "lenVar": 40
   },
   "kernels_config": {
    "python": {
     "delete_cmd_postfix": "",
     "delete_cmd_prefix": "del ",
     "library": "var_list.py",
     "varRefreshCmd": "print(var_dic_list())"
    },
    "r": {
     "delete_cmd_postfix": ") ",
     "delete_cmd_prefix": "rm(",
     "library": "var_list.r",
     "varRefreshCmd": "cat(var_dic_list()) "
    }
   },
   "position": {
    "height": "307.85px",
    "left": "1042px",
    "right": "20px",
    "top": "121px",
    "width": "350px"
   },
   "types_to_exclude": [
    "module",
    "function",
    "builtin_function_or_method",
    "instance",
    "_Feature"
   ],
   "window_display": true
  }
 },
 "nbformat": 4,
 "nbformat_minor": 2
}
