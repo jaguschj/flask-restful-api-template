{
 "cells": [
  {
   "cell_type": "code",
   "execution_count": 19,
   "metadata": {},
   "outputs": [],
   "source": [
    "#import site,os\n",
    "import app\n",
    "#add_dir=os.path.join('..','endpoints')\n",
    "#print (add_dir)\n",
    "#site.addsitedir(add_dir)\n",
    "from endpoints.cure.model import Curedb\n",
    "from endpoints.users.model import User\n",
    "\n",
    "import requests\n"
   ]
  },
  {
   "cell_type": "code",
   "execution_count": 10,
   "metadata": {},
   "outputs": [
    {
     "data": {
      "text/plain": [
       "[{'id': 1, 'name': 'Hans', 'todos': []},\n",
       " {'id': 2, 'name': 'Kai', 'todos': []},\n",
       " {'id': 4, 'name': 'John', 'todos': []},\n",
       " {'id': 5, 'name': 'John5', 'todos': []}]"
      ]
     },
     "execution_count": 10,
     "metadata": {},
     "output_type": "execute_result"
    }
   ],
   "source": [
    "get_user=requests.get(\"http://localhost:5000/api/users\")\n",
    "users=get_user.json()['users']\n",
    "users"
   ]
  },
  {
   "cell_type": "code",
   "execution_count": 3,
   "metadata": {},
   "outputs": [
    {
     "data": {
      "text/plain": [
       "<Response [200]>"
      ]
     },
     "execution_count": 3,
     "metadata": {},
     "output_type": "execute_result"
    }
   ],
   "source": [
    "uparam={'id':3,'name':'ABCDE'}\n",
    "user_response=requests.post(\"http://localhost:5000/api/users\", json=uparam)\n",
    "user_response"
   ]
  },
  {
   "cell_type": "code",
   "execution_count": 6,
   "metadata": {},
   "outputs": [
    {
     "data": {
      "text/plain": [
       "<Response [200]>"
      ]
     },
     "execution_count": 6,
     "metadata": {},
     "output_type": "execute_result"
    }
   ],
   "source": [
    "uparam={'id':5,'name':'John5'}\n",
    "user_response=requests.put(\"http://localhost:5000/api/users/\"+str(uparam['id']), json=uparam)\n",
    "user_response"
   ]
  },
  {
   "cell_type": "code",
   "execution_count": 7,
   "metadata": {},
   "outputs": [
    {
     "name": "stdout",
     "output_type": "stream",
     "text": [
      "<Id: 6, name: ABCDE>\n"
     ]
    },
    {
     "data": {
      "text/plain": [
       "<Response [200]>"
      ]
     },
     "execution_count": 7,
     "metadata": {},
     "output_type": "execute_result"
    }
   ],
   "source": [
    "udel= User.query.filter_by(name='ABCDE').first()\n",
    "print(udel)\n",
    "user_response=requests.delete(\"http://localhost:5000/api/users/\"+str(udel.id))\n",
    "user_response"
   ]
  },
  {
   "cell_type": "code",
   "execution_count": 115,
   "metadata": {},
   "outputs": [],
   "source": [
    "get_response=requests.get(\"http://localhost:5000/api/cures\")#, params=parameters)"
   ]
  },
  {
   "cell_type": "code",
   "execution_count": 116,
   "metadata": {},
   "outputs": [
    {
     "data": {
      "text/plain": [
       "[{'id': 1,\n",
       "  'name': '2ABCDE',\n",
       "  'description': 'no description',\n",
       "  'a': 1.0,\n",
       "  'b': 2.0,\n",
       "  'user_id': 2},\n",
       " {'id': 2,\n",
       "  'name': 'Nubi',\n",
       "  'description': 'nix',\n",
       "  'a': 1.0,\n",
       "  'b': 0.5,\n",
       "  'user_id': 1},\n",
       " {'id': 3,\n",
       "  'name': 'PDSA',\n",
       "  'description': 'test',\n",
       "  'a': 1.0,\n",
       "  'b': 2.0,\n",
       "  'user_id': 2},\n",
       " {'id': 4,\n",
       "  'name': 'ABCDE',\n",
       "  'description': 'no description',\n",
       "  'a': 1.0,\n",
       "  'b': 2.0,\n",
       "  'user_id': 2},\n",
       " {'id': 5,\n",
       "  'name': 'ABCDEF',\n",
       "  'description': 'double name entry',\n",
       "  'a': 1.0,\n",
       "  'b': 3.0,\n",
       "  'user_id': 2},\n",
       " {'id': 6,\n",
       "  'name': 'ABCDEFGH',\n",
       "  'description': 'double name entry',\n",
       "  'a': 1.0,\n",
       "  'b': 3.0,\n",
       "  'user_id': 2}]"
      ]
     },
     "execution_count": 116,
     "metadata": {},
     "output_type": "execute_result"
    }
   ],
   "source": [
    "cures=get_response.json()['cures']\n",
    "cures"
   ]
  },
  {
   "cell_type": "code",
   "execution_count": 118,
   "metadata": {},
   "outputs": [
    {
     "data": {
      "text/plain": [
       "b'{\"id\": 7, \"name\": \"ABCDEFG\", \"description\": \"double name entry\", \"a\": 1.0, \"b\": 3.0, \"user_id\": 2}\\n'"
      ]
     },
     "execution_count": 118,
     "metadata": {},
     "output_type": "execute_result"
    }
   ],
   "source": [
    "import json\n",
    "parameters={'user_id':2,'name':'ABCDEFG','a':1.0,'b':3.0,'description':'double name entry'}\n",
    "#pstr='user_id=1 name=\"ABCD\" a=1.0 b=2.0 description=\"no description\"'\n",
    "#xx=json.dumps(parameters)\n",
    "post_response=requests.post(\"http://localhost:5000/api/cures\", json=parameters)\n",
    "post_response.content"
   ]
  },
  {
   "cell_type": "code",
   "execution_count": 113,
   "metadata": {},
   "outputs": [
    {
     "name": "stdout",
     "output_type": "stream",
     "text": [
      "['__attrs__', '__bool__', '__class__', '__delattr__', '__dict__', '__dir__', '__doc__', '__enter__', '__eq__', '__exit__', '__format__', '__ge__', '__getattribute__', '__getstate__', '__gt__', '__hash__', '__init__', '__init_subclass__', '__iter__', '__le__', '__lt__', '__module__', '__ne__', '__new__', '__nonzero__', '__reduce__', '__reduce_ex__', '__repr__', '__setattr__', '__setstate__', '__sizeof__', '__str__', '__subclasshook__', '__weakref__', '_content', '_content_consumed', '_next', 'apparent_encoding', 'close', 'connection', 'content', 'cookies', 'elapsed', 'encoding', 'headers', 'history', 'is_permanent_redirect', 'is_redirect', 'iter_content', 'iter_lines', 'json', 'links', 'next', 'ok', 'raise_for_status', 'raw', 'reason', 'request', 'status_code', 'text', 'url']\n"
     ]
    },
    {
     "data": {
      "text/plain": [
       "200"
      ]
     },
     "execution_count": 113,
     "metadata": {},
     "output_type": "execute_result"
    }
   ],
   "source": [
    "print(dir(post_response))\n",
    "post_response.status_code"
   ]
  },
  {
   "cell_type": "code",
   "execution_count": null,
   "metadata": {},
   "outputs": [],
   "source": [
    "get_response.content"
   ]
  },
  {
   "cell_type": "code",
   "execution_count": 110,
   "metadata": {},
   "outputs": [
    {
     "data": {
      "text/html": [
       "<div>\n",
       "<style scoped>\n",
       "    .dataframe tbody tr th:only-of-type {\n",
       "        vertical-align: middle;\n",
       "    }\n",
       "\n",
       "    .dataframe tbody tr th {\n",
       "        vertical-align: top;\n",
       "    }\n",
       "\n",
       "    .dataframe thead th {\n",
       "        text-align: right;\n",
       "    }\n",
       "</style>\n",
       "<table border=\"1\" class=\"dataframe\">\n",
       "  <thead>\n",
       "    <tr style=\"text-align: right;\">\n",
       "      <th></th>\n",
       "      <th>id</th>\n",
       "      <th>name</th>\n",
       "      <th>description</th>\n",
       "      <th>a</th>\n",
       "      <th>b</th>\n",
       "      <th>user_id</th>\n",
       "    </tr>\n",
       "  </thead>\n",
       "  <tbody>\n",
       "    <tr>\n",
       "      <th>0</th>\n",
       "      <td>1</td>\n",
       "      <td>2ABCDE</td>\n",
       "      <td>no description</td>\n",
       "      <td>1.0</td>\n",
       "      <td>2.0</td>\n",
       "      <td>2</td>\n",
       "    </tr>\n",
       "    <tr>\n",
       "      <th>1</th>\n",
       "      <td>2</td>\n",
       "      <td>Nubi</td>\n",
       "      <td>nix</td>\n",
       "      <td>1.0</td>\n",
       "      <td>0.5</td>\n",
       "      <td>1</td>\n",
       "    </tr>\n",
       "    <tr>\n",
       "      <th>2</th>\n",
       "      <td>3</td>\n",
       "      <td>PDSA</td>\n",
       "      <td>test</td>\n",
       "      <td>1.0</td>\n",
       "      <td>2.0</td>\n",
       "      <td>2</td>\n",
       "    </tr>\n",
       "    <tr>\n",
       "      <th>3</th>\n",
       "      <td>4</td>\n",
       "      <td>ABCDE</td>\n",
       "      <td>no description</td>\n",
       "      <td>1.0</td>\n",
       "      <td>2.0</td>\n",
       "      <td>2</td>\n",
       "    </tr>\n",
       "    <tr>\n",
       "      <th>4</th>\n",
       "      <td>5</td>\n",
       "      <td>ABCDEF</td>\n",
       "      <td>double name entry</td>\n",
       "      <td>1.0</td>\n",
       "      <td>3.0</td>\n",
       "      <td>2</td>\n",
       "    </tr>\n",
       "  </tbody>\n",
       "</table>\n",
       "</div>"
      ],
      "text/plain": [
       "   id    name        description    a    b  user_id\n",
       "0   1  2ABCDE     no description  1.0  2.0        2\n",
       "1   2    Nubi                nix  1.0  0.5        1\n",
       "2   3    PDSA               test  1.0  2.0        2\n",
       "3   4   ABCDE     no description  1.0  2.0        2\n",
       "4   5  ABCDEF  double name entry  1.0  3.0        2"
      ]
     },
     "execution_count": 110,
     "metadata": {},
     "output_type": "execute_result"
    }
   ],
   "source": [
    "import pandas as pd\n",
    "# get as pandas dataFrame\n",
    "def get_list_of_compounds():\n",
    "    #cures=get_response.json()['cures']\n",
    "    get_response=requests.get(\"http://localhost:5000/api/cures\")\n",
    "    #df=pd.DataFrame(data=cures,index='id')\n",
    "    df=pd.DataFrame(get_response.json()['cures'])\n",
    "    return df\n",
    "    #return [ (c['id'],c['name'],c['description']) for c in cures]\n",
    "lcc=get_list_of_compounds()    \n",
    "lcc     "
   ]
  },
  {
   "cell_type": "code",
   "execution_count": 111,
   "metadata": {},
   "outputs": [
    {
     "name": "stdout",
     "output_type": "stream",
     "text": [
      "[<Id: 1, name: 2ABCDE>, <Id: 2, name: Nubi>, <Id: 3, name: PDSA>, <Id: 4, name: ABCDE>, <Id: 5, name: ABCDEF>]\n",
      "1 2ABCDE no description\n",
      "3 PDSA test\n",
      "4 ABCDE no description\n",
      "5 ABCDEF double name entry\n"
     ]
    }
   ],
   "source": [
    "# using filters in query    \n",
    "def get_list_of_compounds_perUser(user=None):\n",
    "    if user:\n",
    "        uname = User.query.filter_by(name=user).first()\n",
    "        cure=Curedb.query.filter_by(user_id=uname.id) \n",
    "        return cure.all()\n",
    "    else:\n",
    "        cure=Curedb.query.all()\n",
    "        return cure\n",
    "        \n",
    "\n",
    "\n",
    "lcca=get_list_of_compounds_perUser()   \n",
    "#print(dir(lccu))\n",
    "print(lcca)\n",
    "\n",
    "lccu=get_list_of_compounds_perUser('Kai')\n",
    "#print(dir(lccu))\n",
    "for lc in lccu:    \n",
    "    print(lc.id,lc.name,lc.description)"
   ]
  },
  {
   "cell_type": "code",
   "execution_count": null,
   "metadata": {},
   "outputs": [],
   "source": [
    "# alternative request filter in url\n",
    "get_2=requests.get(\"http://localhost:5000/api/cures?user_id=2&name=ABCDE\")\n",
    "cures=get_2.json()['cures']\n",
    "cures"
   ]
  },
  {
   "cell_type": "code",
   "execution_count": null,
   "metadata": {},
   "outputs": [],
   "source": [
    "# filter by name\n",
    "uname=User.query.filter_by(name='Kai').first()\n",
    "cure=Curedb.query.filter_by(user_id=uname.id)\n",
    "print('%d Cure(s) found in db for name: %s'%(cure.count(),uname.name))\n",
    "for x in cure:\n",
    "    print(x.id,x.name,x.a)"
   ]
  },
  {
   "cell_type": "code",
   "execution_count": 106,
   "metadata": {},
   "outputs": [],
   "source": [
    "parameter={'cure_id':1}\n",
    "get_byid=requests.get(\"http://localhost:5000/api/cures\",json=parameter)"
   ]
  },
  {
   "cell_type": "code",
   "execution_count": 107,
   "metadata": {},
   "outputs": [
    {
     "data": {
      "text/plain": [
       "{'count': 7,\n",
       " 'cures': [{'id': 1,\n",
       "   'name': '2ABCDE',\n",
       "   'description': 'no description',\n",
       "   'a': 1.0,\n",
       "   'b': 2.0,\n",
       "   'user_id': 2},\n",
       "  {'id': 2,\n",
       "   'name': 'Nubi',\n",
       "   'description': 'nix',\n",
       "   'a': 1.0,\n",
       "   'b': 0.5,\n",
       "   'user_id': 1},\n",
       "  {'id': 3,\n",
       "   'name': 'PDSA',\n",
       "   'description': 'test',\n",
       "   'a': 1.0,\n",
       "   'b': 2.0,\n",
       "   'user_id': 2},\n",
       "  {'id': 4,\n",
       "   'name': 'ABCDE',\n",
       "   'description': 'no description',\n",
       "   'a': 1.0,\n",
       "   'b': 2.0,\n",
       "   'user_id': 2},\n",
       "  {'id': 5,\n",
       "   'name': 'ABCDEF',\n",
       "   'description': 'double name entry',\n",
       "   'a': 1.0,\n",
       "   'b': 3.0,\n",
       "   'user_id': 2},\n",
       "  {'id': 6,\n",
       "   'name': 'ABCDEFG',\n",
       "   'description': 'double name entry',\n",
       "   'a': 1.0,\n",
       "   'b': 3.0,\n",
       "   'user_id': 2},\n",
       "  {'id': 7,\n",
       "   'name': 'ABCDEFGH',\n",
       "   'description': 'double name entry',\n",
       "   'a': 1.0,\n",
       "   'b': 3.0,\n",
       "   'user_id': 2}]}"
      ]
     },
     "execution_count": 107,
     "metadata": {},
     "output_type": "execute_result"
    }
   ],
   "source": [
    "get_byid.content\n",
    "get_byid.json()"
   ]
  },
  {
   "cell_type": "code",
   "execution_count": 109,
   "metadata": {},
   "outputs": [
    {
     "data": {
      "text/plain": [
       "b'{\"id\": 7, \"name\": \"ABCDEFGH\", \"description\": \"double name entry\", \"a\": 1.0, \"b\": 3.0, \"user_id\": 2}\\n'"
      ]
     },
     "execution_count": 109,
     "metadata": {},
     "output_type": "execute_result"
    }
   ],
   "source": [
    "del_byid=requests.delete(\"http://localhost:5000/api/cures/7\",json=parameter)\n",
    "del_byid.content"
   ]
  },
  {
   "cell_type": "code",
   "execution_count": null,
   "metadata": {},
   "outputs": [],
   "source": []
  }
 ],
 "metadata": {
  "kernelspec": {
   "display_name": "Python 3",
   "language": "python",
   "name": "python3"
  },
  "language_info": {
   "codemirror_mode": {
    "name": "ipython",
    "version": 3
   },
   "file_extension": ".py",
   "mimetype": "text/x-python",
   "name": "python",
   "nbconvert_exporter": "python",
   "pygments_lexer": "ipython3",
   "version": "3.7.5"
  },
  "varInspector": {
   "cols": {
    "lenName": 16,
    "lenType": 16,
    "lenVar": 40
   },
   "kernels_config": {
    "python": {
     "delete_cmd_postfix": "",
     "delete_cmd_prefix": "del ",
     "library": "var_list.py",
     "varRefreshCmd": "print(var_dic_list())"
    },
    "r": {
     "delete_cmd_postfix": ") ",
     "delete_cmd_prefix": "rm(",
     "library": "var_list.r",
     "varRefreshCmd": "cat(var_dic_list()) "
    }
   },
   "position": {
    "height": "307.85px",
    "left": "1042px",
    "right": "20px",
    "top": "121px",
    "width": "350px"
   },
   "types_to_exclude": [
    "module",
    "function",
    "builtin_function_or_method",
    "instance",
    "_Feature"
   ],
   "window_display": true
  }
 },
 "nbformat": 4,
 "nbformat_minor": 2
}
